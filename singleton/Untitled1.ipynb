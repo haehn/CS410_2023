{
 "cells": [
  {
   "cell_type": "code",
   "execution_count": 1,
   "id": "efd1b181",
   "metadata": {},
   "outputs": [
    {
     "name": "stdout",
     "output_type": "stream",
     "text": [
      "%pylab is deprecated, use %matplotlib inline and import the required libraries.\n",
      "Populating the interactive namespace from numpy and matplotlib\n"
     ]
    }
   ],
   "source": [
    "%pylab inline\n",
    "%load_ext autoreload\n",
    "%autoreload 2"
   ]
  },
  {
   "cell_type": "code",
   "execution_count": 11,
   "id": "2cc97ffb",
   "metadata": {},
   "outputs": [
    {
     "name": "stderr",
     "output_type": "stream",
     "text": [
      "[autoreload of circle failed: Traceback (most recent call last):\n",
      "  File \"/home/ubuntu/miniconda3/envs/CS410/lib/python3.10/site-packages/IPython/extensions/autoreload.py\", line 261, in check\n",
      "    superreload(m, reload, self.old_objects)\n",
      "  File \"/home/ubuntu/miniconda3/envs/CS410/lib/python3.10/site-packages/IPython/extensions/autoreload.py\", line 459, in superreload\n",
      "    module = reload(module)\n",
      "  File \"/home/ubuntu/miniconda3/envs/CS410/lib/python3.10/importlib/__init__.py\", line 169, in reload\n",
      "    _bootstrap._exec(spec, module)\n",
      "  File \"<frozen importlib._bootstrap>\", line 619, in _exec\n",
      "  File \"<frozen importlib._bootstrap_external>\", line 883, in exec_module\n",
      "  File \"<frozen importlib._bootstrap>\", line 241, in _call_with_frames_removed\n",
      "  File \"/home/ubuntu/Projects/CS410_2023/singleton/circle.py\", line 1, in <module>\n",
      "    class Circle:\n",
      "  File \"/home/ubuntu/Projects/CS410_2023/singleton/circle.py\", line 3, in Circle\n",
      "    instance = Circle()\n",
      "NameError: name 'Circle' is not defined\n",
      "]\n"
     ]
    }
   ],
   "source": [
    "import circle"
   ]
  },
  {
   "cell_type": "code",
   "execution_count": 3,
   "id": "e57a96a7",
   "metadata": {},
   "outputs": [
    {
     "name": "stdout",
     "output_type": "stream",
     "text": [
      "created new circle\n"
     ]
    }
   ],
   "source": [
    "c1 = circle.Circle.getInstance()"
   ]
  },
  {
   "cell_type": "code",
   "execution_count": 4,
   "id": "aee2eb65",
   "metadata": {},
   "outputs": [],
   "source": [
    "c2 = circle.Circle.getInstance()"
   ]
  },
  {
   "cell_type": "code",
   "execution_count": 5,
   "id": "d3ae41b6",
   "metadata": {},
   "outputs": [],
   "source": [
    "c3 = circle.Circle.getInstance()"
   ]
  },
  {
   "cell_type": "code",
   "execution_count": 9,
   "id": "87dc303e",
   "metadata": {},
   "outputs": [
    {
     "data": {
      "text/plain": [
       "8"
      ]
     },
     "execution_count": 9,
     "metadata": {},
     "output_type": "execute_result"
    }
   ],
   "source": [
    "c3.getRadius()"
   ]
  },
  {
   "cell_type": "code",
   "execution_count": 10,
   "id": "390ec01f",
   "metadata": {},
   "outputs": [
    {
     "data": {
      "text/plain": [
       "8"
      ]
     },
     "execution_count": 10,
     "metadata": {},
     "output_type": "execute_result"
    }
   ],
   "source": [
    "c2.getRadius()"
   ]
  },
  {
   "cell_type": "code",
   "execution_count": 8,
   "id": "2db6e950",
   "metadata": {},
   "outputs": [],
   "source": [
    "c1.setRadius(8)"
   ]
  },
  {
   "cell_type": "code",
   "execution_count": null,
   "id": "22fe176b",
   "metadata": {},
   "outputs": [],
   "source": []
  }
 ],
 "metadata": {
  "kernelspec": {
   "display_name": "Python 3 (ipykernel)",
   "language": "python",
   "name": "python3"
  },
  "language_info": {
   "codemirror_mode": {
    "name": "ipython",
    "version": 3
   },
   "file_extension": ".py",
   "mimetype": "text/x-python",
   "name": "python",
   "nbconvert_exporter": "python",
   "pygments_lexer": "ipython3",
   "version": "3.10.9"
  }
 },
 "nbformat": 4,
 "nbformat_minor": 5
}
