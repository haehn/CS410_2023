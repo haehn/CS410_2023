{
 "cells": [
  {
   "cell_type": "code",
   "execution_count": 1,
   "id": "08b54af5",
   "metadata": {},
   "outputs": [
    {
     "name": "stdout",
     "output_type": "stream",
     "text": [
      "%pylab is deprecated, use %matplotlib inline and import the required libraries.\n",
      "Populating the interactive namespace from numpy and matplotlib\n"
     ]
    }
   ],
   "source": [
    "%pylab inline\n",
    "%load_ext autoreload\n",
    "%autoreload 2"
   ]
  },
  {
   "cell_type": "code",
   "execution_count": 2,
   "id": "bad03340",
   "metadata": {},
   "outputs": [],
   "source": [
    "import circle"
   ]
  },
  {
   "cell_type": "code",
   "execution_count": 3,
   "id": "4eec9960",
   "metadata": {},
   "outputs": [
    {
     "name": "stdout",
     "output_type": "stream",
     "text": [
      "created new circle\n"
     ]
    }
   ],
   "source": [
    "c1 = circle.Circle()"
   ]
  },
  {
   "cell_type": "code",
   "execution_count": 4,
   "id": "8098f5fa",
   "metadata": {},
   "outputs": [
    {
     "ename": "AttributeError",
     "evalue": "'Circle' object has no attribute '__radius'",
     "output_type": "error",
     "traceback": [
      "\u001b[0;31m---------------------------------------------------------------------------\u001b[0m",
      "\u001b[0;31mAttributeError\u001b[0m                            Traceback (most recent call last)",
      "Cell \u001b[0;32mIn[4], line 1\u001b[0m\n\u001b[0;32m----> 1\u001b[0m \u001b[43mc1\u001b[49m\u001b[38;5;241;43m.\u001b[39;49m\u001b[43m__radius\u001b[49m\n",
      "\u001b[0;31mAttributeError\u001b[0m: 'Circle' object has no attribute '__radius'"
     ]
    }
   ],
   "source": [
    "c1.__radius"
   ]
  },
  {
   "cell_type": "code",
   "execution_count": 8,
   "id": "715e0b0c",
   "metadata": {},
   "outputs": [
    {
     "data": {
      "text/plain": [
       "7"
      ]
     },
     "execution_count": 8,
     "metadata": {},
     "output_type": "execute_result"
    }
   ],
   "source": [
    "c1.getRadius()"
   ]
  },
  {
   "cell_type": "code",
   "execution_count": 6,
   "id": "602896bb",
   "metadata": {},
   "outputs": [
    {
     "ename": "Exception",
     "evalue": "invalid value",
     "output_type": "error",
     "traceback": [
      "\u001b[0;31m---------------------------------------------------------------------------\u001b[0m",
      "\u001b[0;31mException\u001b[0m                                 Traceback (most recent call last)",
      "Cell \u001b[0;32mIn[6], line 1\u001b[0m\n\u001b[0;32m----> 1\u001b[0m \u001b[43mc1\u001b[49m\u001b[38;5;241;43m.\u001b[39;49m\u001b[43msetRadius\u001b[49m\u001b[43m(\u001b[49m\u001b[38;5;241;43m10\u001b[39;49m\u001b[43m)\u001b[49m\n",
      "File \u001b[0;32m~/Projects/CS410_2023/singleton/circle.py:21\u001b[0m, in \u001b[0;36mCircle.setRadius\u001b[0;34m(self, radius)\u001b[0m\n\u001b[1;32m     19\u001b[0m \t\u001b[38;5;28mself\u001b[39m\u001b[38;5;241m.\u001b[39m__radius \u001b[38;5;241m=\u001b[39m radius\n\u001b[1;32m     20\u001b[0m \u001b[38;5;28;01melse\u001b[39;00m:\n\u001b[0;32m---> 21\u001b[0m \t\u001b[38;5;28;01mraise\u001b[39;00m \u001b[38;5;167;01mException\u001b[39;00m(\u001b[38;5;124m'\u001b[39m\u001b[38;5;124minvalid value\u001b[39m\u001b[38;5;124m'\u001b[39m)\n",
      "\u001b[0;31mException\u001b[0m: invalid value"
     ]
    }
   ],
   "source": [
    "c1.setRadius(10)"
   ]
  },
  {
   "cell_type": "code",
   "execution_count": 7,
   "id": "c55de6b3",
   "metadata": {},
   "outputs": [],
   "source": [
    "c1.__radius = 10"
   ]
  },
  {
   "cell_type": "code",
   "execution_count": 8,
   "id": "eae28f7e",
   "metadata": {},
   "outputs": [
    {
     "data": {
      "text/plain": [
       "10"
      ]
     },
     "execution_count": 8,
     "metadata": {},
     "output_type": "execute_result"
    }
   ],
   "source": [
    "c1.__radius"
   ]
  },
  {
   "cell_type": "code",
   "execution_count": 10,
   "id": "bf724922",
   "metadata": {},
   "outputs": [
    {
     "data": {
      "text/plain": [
       "'OOOOOOO'"
      ]
     },
     "execution_count": 10,
     "metadata": {},
     "output_type": "execute_result"
    }
   ],
   "source": [
    "c1.draw()"
   ]
  },
  {
   "cell_type": "code",
   "execution_count": 12,
   "id": "1c8ec6f8",
   "metadata": {},
   "outputs": [
    {
     "name": "stdout",
     "output_type": "stream",
     "text": [
      "created new circle\n"
     ]
    }
   ],
   "source": [
    "c2 = circle.Circle()"
   ]
  },
  {
   "cell_type": "code",
   "execution_count": 15,
   "id": "3de6d86f",
   "metadata": {},
   "outputs": [
    {
     "data": {
      "text/plain": [
       "8"
      ]
     },
     "execution_count": 15,
     "metadata": {},
     "output_type": "execute_result"
    }
   ],
   "source": [
    "c2.getRadius()"
   ]
  },
  {
   "cell_type": "code",
   "execution_count": 14,
   "id": "9db3dd0c",
   "metadata": {},
   "outputs": [],
   "source": [
    "c2.setRadius(8)"
   ]
  },
  {
   "cell_type": "code",
   "execution_count": 16,
   "id": "5fd28402",
   "metadata": {},
   "outputs": [
    {
     "data": {
      "text/plain": [
       "7"
      ]
     },
     "execution_count": 16,
     "metadata": {},
     "output_type": "execute_result"
    }
   ],
   "source": [
    "c1.getRadius()"
   ]
  },
  {
   "cell_type": "code",
   "execution_count": 22,
   "id": "cc6fbaab",
   "metadata": {},
   "outputs": [
    {
     "name": "stdout",
     "output_type": "stream",
     "text": [
      "created new circle\n"
     ]
    }
   ],
   "source": [
    "c3 = circle.Circle.getInstance()"
   ]
  },
  {
   "cell_type": "code",
   "execution_count": 23,
   "id": "98bd650b",
   "metadata": {},
   "outputs": [],
   "source": [
    "c4 = circle.Circle.getInstance()"
   ]
  },
  {
   "cell_type": "code",
   "execution_count": 24,
   "id": "01b4e994",
   "metadata": {},
   "outputs": [
    {
     "data": {
      "text/plain": [
       "<circle.Circle at 0x7f6e00b9a410>"
      ]
     },
     "execution_count": 24,
     "metadata": {},
     "output_type": "execute_result"
    }
   ],
   "source": [
    "c3"
   ]
  },
  {
   "cell_type": "code",
   "execution_count": 25,
   "id": "f27d6f4e",
   "metadata": {},
   "outputs": [
    {
     "data": {
      "text/plain": [
       "<circle.Circle at 0x7f6e00b9a410>"
      ]
     },
     "execution_count": 25,
     "metadata": {},
     "output_type": "execute_result"
    }
   ],
   "source": [
    "c4"
   ]
  },
  {
   "cell_type": "code",
   "execution_count": 26,
   "id": "e130b818",
   "metadata": {},
   "outputs": [],
   "source": [
    "c3 = c4"
   ]
  },
  {
   "cell_type": "code",
   "execution_count": 27,
   "id": "af79142a",
   "metadata": {},
   "outputs": [
    {
     "data": {
      "text/plain": [
       "<circle.Circle at 0x7f6e00b9a410>"
      ]
     },
     "execution_count": 27,
     "metadata": {},
     "output_type": "execute_result"
    }
   ],
   "source": [
    "c3"
   ]
  },
  {
   "cell_type": "code",
   "execution_count": 28,
   "id": "d645d98c",
   "metadata": {},
   "outputs": [
    {
     "name": "stdout",
     "output_type": "stream",
     "text": [
      "created new circle\n"
     ]
    }
   ],
   "source": [
    "c1 = circle.Circle()"
   ]
  },
  {
   "cell_type": "code",
   "execution_count": 30,
   "id": "f84972f1",
   "metadata": {},
   "outputs": [
    {
     "name": "stdout",
     "output_type": "stream",
     "text": [
      "created new circle\n"
     ]
    }
   ],
   "source": [
    "c2 = circle.Circle()"
   ]
  },
  {
   "cell_type": "code",
   "execution_count": 31,
   "id": "a8a12055",
   "metadata": {},
   "outputs": [
    {
     "data": {
      "text/plain": [
       "<circle.Circle at 0x7f6e009dd360>"
      ]
     },
     "execution_count": 31,
     "metadata": {},
     "output_type": "execute_result"
    }
   ],
   "source": [
    "c1"
   ]
  },
  {
   "cell_type": "code",
   "execution_count": 32,
   "id": "364ad795",
   "metadata": {},
   "outputs": [
    {
     "data": {
      "text/plain": [
       "<circle.Circle at 0x7f6e00b92560>"
      ]
     },
     "execution_count": 32,
     "metadata": {},
     "output_type": "execute_result"
    }
   ],
   "source": [
    "c2"
   ]
  },
  {
   "cell_type": "code",
   "execution_count": 33,
   "id": "97f5fcae",
   "metadata": {},
   "outputs": [
    {
     "name": "stdout",
     "output_type": "stream",
     "text": [
      "created new circle\n"
     ]
    }
   ],
   "source": [
    "c5 = circle.Circle.getInstance()"
   ]
  },
  {
   "cell_type": "code",
   "execution_count": 34,
   "id": "f9549e7f",
   "metadata": {},
   "outputs": [],
   "source": [
    "c6 = circle.Circle.getInstance()"
   ]
  },
  {
   "cell_type": "code",
   "execution_count": 35,
   "id": "ed357d7b",
   "metadata": {},
   "outputs": [
    {
     "data": {
      "text/plain": [
       "<circle.Circle at 0x7f6e00b99de0>"
      ]
     },
     "execution_count": 35,
     "metadata": {},
     "output_type": "execute_result"
    }
   ],
   "source": [
    "c5"
   ]
  },
  {
   "cell_type": "code",
   "execution_count": 36,
   "id": "e2fc40c7",
   "metadata": {},
   "outputs": [
    {
     "data": {
      "text/plain": [
       "<circle.Circle at 0x7f6e00b99de0>"
      ]
     },
     "execution_count": 36,
     "metadata": {},
     "output_type": "execute_result"
    }
   ],
   "source": [
    "c6"
   ]
  },
  {
   "cell_type": "code",
   "execution_count": null,
   "id": "584c9865",
   "metadata": {},
   "outputs": [],
   "source": []
  }
 ],
 "metadata": {
  "kernelspec": {
   "display_name": "Python 3 (ipykernel)",
   "language": "python",
   "name": "python3"
  },
  "language_info": {
   "codemirror_mode": {
    "name": "ipython",
    "version": 3
   },
   "file_extension": ".py",
   "mimetype": "text/x-python",
   "name": "python",
   "nbconvert_exporter": "python",
   "pygments_lexer": "ipython3",
   "version": "3.10.9"
  }
 },
 "nbformat": 4,
 "nbformat_minor": 5
}
