{
 "cells": [
  {
   "cell_type": "code",
   "execution_count": 1,
   "id": "d1516230",
   "metadata": {
    "scrolled": true
   },
   "outputs": [
    {
     "name": "stdout",
     "output_type": "stream",
     "text": [
      "%pylab is deprecated, use %matplotlib inline and import the required libraries.\n",
      "Populating the interactive namespace from numpy and matplotlib\n"
     ]
    }
   ],
   "source": [
    "%pylab inline"
   ]
  },
  {
   "cell_type": "code",
   "execution_count": 2,
   "id": "7556d6bc",
   "metadata": {},
   "outputs": [],
   "source": [
    "%load_ext autoreload\n",
    "%autoreload 2"
   ]
  },
  {
   "cell_type": "code",
   "execution_count": 3,
   "id": "fa27f344",
   "metadata": {},
   "outputs": [],
   "source": [
    "import calculator as C"
   ]
  },
  {
   "cell_type": "code",
   "execution_count": 5,
   "id": "f099ec71",
   "metadata": {},
   "outputs": [
    {
     "name": "stdout",
     "output_type": "stream",
     "text": [
      "123 Welcome to the Math Engine\n"
     ]
    }
   ],
   "source": [
    "me = C.MathEngine()"
   ]
  },
  {
   "cell_type": "code",
   "execution_count": 6,
   "id": "a2a5791f",
   "metadata": {},
   "outputs": [
    {
     "data": {
      "text/plain": [
       "<calculator.view.ui.UI at 0x7f2548be26e0>"
      ]
     },
     "execution_count": 6,
     "metadata": {},
     "output_type": "execute_result"
    }
   ],
   "source": [
    "C.UI()"
   ]
  },
  {
   "cell_type": "code",
   "execution_count": null,
   "id": "88dfb9f2",
   "metadata": {},
   "outputs": [],
   "source": []
  }
 ],
 "metadata": {
  "kernelspec": {
   "display_name": "Python 3 (ipykernel)",
   "language": "python",
   "name": "python3"
  },
  "language_info": {
   "codemirror_mode": {
    "name": "ipython",
    "version": 3
   },
   "file_extension": ".py",
   "mimetype": "text/x-python",
   "name": "python",
   "nbconvert_exporter": "python",
   "pygments_lexer": "ipython3",
   "version": "3.10.9"
  }
 },
 "nbformat": 4,
 "nbformat_minor": 5
}
